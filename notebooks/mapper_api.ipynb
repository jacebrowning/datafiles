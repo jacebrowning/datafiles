{
 "cells": [
  {
   "cell_type": "code",
   "execution_count": null,
   "id": "c7c7539a",
   "metadata": {
    "tags": []
   },
   "outputs": [],
   "source": [
    "%%sh\n",
    "\n",
    "rm -rf my_models"
   ]
  },
  {
   "cell_type": "code",
   "execution_count": null,
   "id": "e9cbbfb3",
   "metadata": {
    "tags": []
   },
   "outputs": [],
   "source": [
    "from datafiles import datafile\n",
    "\n",
    "@datafile(\"my_models/{self.my_key}.yml\", manual=True)\n",
    "class MyModel:\n",
    "\n",
    "    my_key: str\n",
    "    my_value: int = 1"
   ]
  },
  {
   "cell_type": "code",
   "execution_count": null,
   "id": "7881fa39",
   "metadata": {
    "tags": []
   },
   "outputs": [],
   "source": [
    "model = MyModel('foo')"
   ]
  },
  {
   "cell_type": "code",
   "execution_count": null,
   "id": "7492282d",
   "metadata": {
    "tags": []
   },
   "outputs": [
    {
     "data": {
      "text/plain": [
       "1"
      ]
     },
     "execution_count": null,
     "metadata": {},
     "output_type": "execute_result"
    }
   ],
   "source": [
    "model.my_value"
   ]
  },
  {
   "cell_type": "markdown",
   "id": "ce7a321e",
   "metadata": {
    "tags": []
   },
   "source": [
    "# `path`"
   ]
  },
  {
   "cell_type": "code",
   "execution_count": null,
   "id": "a9b1da10",
   "metadata": {
    "tags": []
   },
   "outputs": [
    {
     "data": {
      "text/plain": [
       "PosixPath('/Users/Browning/Code/datafiles/notebooks/my_models/foo.yml')"
      ]
     },
     "execution_count": null,
     "metadata": {},
     "output_type": "execute_result"
    }
   ],
   "source": [
    "model.datafile.path"
   ]
  },
  {
   "cell_type": "markdown",
   "id": "99d6babe",
   "metadata": {
    "tags": []
   },
   "source": [
    "# `exists`"
   ]
  },
  {
   "cell_type": "code",
   "execution_count": null,
   "id": "98094443",
   "metadata": {
    "tags": []
   },
   "outputs": [
    {
     "data": {
      "text/plain": [
       "False"
      ]
     },
     "execution_count": null,
     "metadata": {},
     "output_type": "execute_result"
    }
   ],
   "source": [
    "model.datafile.exists"
   ]
  },
  {
   "cell_type": "markdown",
   "id": "8cb9f3aa",
   "metadata": {
    "tags": []
   },
   "source": [
    "# `save()`"
   ]
  },
  {
   "cell_type": "code",
   "execution_count": null,
   "id": "20450e79",
   "metadata": {
    "tags": []
   },
   "outputs": [],
   "source": [
    "model.datafile.save()"
   ]
  },
  {
   "cell_type": "code",
   "execution_count": null,
   "id": "769012c8",
   "metadata": {
    "tags": []
   },
   "outputs": [
    {
     "data": {
      "text/plain": [
       "True"
      ]
     },
     "execution_count": null,
     "metadata": {},
     "output_type": "execute_result"
    }
   ],
   "source": [
    "model.datafile.exists"
   ]
  },
  {
   "cell_type": "markdown",
   "id": "4813c581",
   "metadata": {
    "tags": []
   },
   "source": [
    "# `modified`"
   ]
  },
  {
   "cell_type": "code",
   "execution_count": null,
   "id": "5f2935d6",
   "metadata": {
    "tags": []
   },
   "outputs": [
    {
     "data": {
      "text/plain": [
       "False"
      ]
     },
     "execution_count": null,
     "metadata": {},
     "output_type": "execute_result"
    }
   ],
   "source": [
    "model.datafile.modified"
   ]
  },
  {
   "cell_type": "code",
   "execution_count": null,
   "id": "c850961f",
   "metadata": {
    "tags": []
   },
   "outputs": [
    {
     "name": "stdout",
     "output_type": "stream",
     "text": [
      "Overwriting my_models/foo.yml\n"
     ]
    }
   ],
   "source": [
    "%%writefile my_models/foo.yml\n",
    "\n",
    "my_value: 42"
   ]
  },
  {
   "cell_type": "code",
   "execution_count": null,
   "id": "4f75f5f1",
   "metadata": {
    "tags": []
   },
   "outputs": [
    {
     "data": {
      "text/plain": [
       "True"
      ]
     },
     "execution_count": null,
     "metadata": {},
     "output_type": "execute_result"
    }
   ],
   "source": [
    "model.datafile.modified"
   ]
  },
  {
   "cell_type": "markdown",
   "id": "1278d8ee",
   "metadata": {
    "tags": []
   },
   "source": [
    "# `load()`"
   ]
  },
  {
   "cell_type": "code",
   "execution_count": null,
   "id": "36719e1d",
   "metadata": {
    "tags": []
   },
   "outputs": [],
   "source": [
    "model.datafile.load()"
   ]
  },
  {
   "cell_type": "markdown",
   "id": "a546bbe3",
   "metadata": {
    "tags": []
   },
   "source": [
    "# `data`"
   ]
  },
  {
   "cell_type": "code",
   "execution_count": null,
   "id": "1aa2138d",
   "metadata": {
    "tags": []
   },
   "outputs": [
    {
     "data": {
      "text/plain": [
       "ordereddict([('my_value', 42)])"
      ]
     },
     "execution_count": null,
     "metadata": {},
     "output_type": "execute_result"
    }
   ],
   "source": [
    "model.datafile.data"
   ]
  }
 ],
 "metadata": {
  "kernelspec": {
   "display_name": "Python 3",
   "language": "python",
   "name": "python3"
  },
  "language_info": {
   "codemirror_mode": {
    "name": "ipython",
    "version": 3
   },
   "file_extension": ".py",
   "mimetype": "text/x-python",
   "name": "python",
   "nbconvert_exporter": "python",
   "pygments_lexer": "ipython3",
   "version": "3.11.5"
  }
 },
 "nbformat": 4,
 "nbformat_minor": 5
}
