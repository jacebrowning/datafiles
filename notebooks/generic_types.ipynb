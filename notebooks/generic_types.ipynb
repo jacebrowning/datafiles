{
 "cells": [
  {
   "cell_type": "markdown",
   "id": "da5059b6",
   "metadata": {
    "tags": []
   },
   "source": [
    "# Define a generic type"
   ]
  },
  {
   "cell_type": "code",
   "execution_count": null,
   "id": "2b842534",
   "metadata": {
    "tags": []
   },
   "outputs": [],
   "source": [
    "%%sh\n",
    "\n",
    "rm -f files/generic_types.yml"
   ]
  },
  {
   "cell_type": "code",
   "execution_count": null,
   "id": "1a8cac9b",
   "metadata": {
    "tags": []
   },
   "outputs": [],
   "source": [
    "from typing import Generic, List, TypeVar\n",
    "\n",
    "from datafiles import Missing, converters, datafile\n",
    "from datafiles.utils import dedent\n",
    "\n",
    "\n",
    "S = TypeVar(\"S\")\n",
    "T = TypeVar(\"T\")\n",
    "\n",
    "\n",
    "class Pair(Generic[S, T], converters.Converter):\n",
    "    first: S\n",
    "    second: T\n",
    "\n",
    "    def __init__(self, first: S, second: T) -> None:\n",
    "        self.first = first\n",
    "        self.second = second\n",
    "\n",
    "    @classmethod\n",
    "    def to_python_value(cls, deserialized_data, *, target_object=None):\n",
    "        paired = zip(cls.CONVERTERS, deserialized_data)\n",
    "        values = [convert.to_python_value(val) for convert, val in paired]\n",
    "        return cls(*values)\n",
    "\n",
    "    @classmethod\n",
    "    def to_preserialization_data(cls, python_value, *, default_to_skip=None):\n",
    "        values = [python_value.first, python_value.second]\n",
    "        paired = zip(cls.CONVERTERS, values)\n",
    "        return [\n",
    "            convert.to_preserialization_data(val)\n",
    "            for convert, val in paired\n",
    "        ]\n",
    "\n",
    "@datafile(\"files/generic_types.yml\")\n",
    "class Dictish:\n",
    "    contents: List[Pair[str, converters.Number]]"
   ]
  },
  {
   "cell_type": "markdown",
   "id": "66ef62af",
   "metadata": {
    "tags": []
   },
   "source": [
    "# Construct an instance"
   ]
  },
  {
   "cell_type": "code",
   "execution_count": null,
   "id": "8cb1384f",
   "metadata": {
    "tags": []
   },
   "outputs": [
    {
     "data": {
      "text/plain": [
       "Dictish(contents=[<__main__.Pair object at 0x1108a0090>, <__main__.Pair object at 0x1108a0e90>])"
      ]
     },
     "execution_count": null,
     "metadata": {},
     "output_type": "execute_result"
    }
   ],
   "source": [
    "Dictish([Pair(\"a\", 1), Pair(\"pi\", 3.14)])"
   ]
  },
  {
   "cell_type": "code",
   "execution_count": null,
   "id": "8a5f42cd",
   "metadata": {
    "tags": []
   },
   "outputs": [
    {
     "name": "stdout",
     "output_type": "stream",
     "text": [
      "contents:\n"
     ]
    },
    {
     "name": "stdout",
     "output_type": "stream",
     "text": [
      "  -   - a\n"
     ]
    },
    {
     "name": "stdout",
     "output_type": "stream",
     "text": [
      "      - 1\n"
     ]
    },
    {
     "name": "stdout",
     "output_type": "stream",
     "text": [
      "  -   - pi\n"
     ]
    },
    {
     "name": "stdout",
     "output_type": "stream",
     "text": [
      "      - 3.14\n"
     ]
    }
   ],
   "source": [
    "%%sh\n",
    "\n",
    "cat files/generic_types.yml"
   ]
  }
 ],
 "metadata": {
  "kernelspec": {
   "display_name": "Python 3",
   "language": "python",
   "name": "python3"
  },
  "language_info": {
   "codemirror_mode": {
    "name": "ipython",
    "version": 3
   },
   "file_extension": ".py",
   "mimetype": "text/x-python",
   "name": "python",
   "nbconvert_exporter": "python",
   "pygments_lexer": "ipython3",
   "version": "3.11.5"
  }
 },
 "nbformat": 4,
 "nbformat_minor": 5
}
