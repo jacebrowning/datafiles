{
 "cells": [
  {
   "cell_type": "markdown",
   "id": "920100e4",
   "metadata": {
    "tags": []
   },
   "source": [
    "# Define multiple classes"
   ]
  },
  {
   "cell_type": "code",
   "execution_count": null,
   "id": "4ee146ee",
   "metadata": {
    "tags": []
   },
   "outputs": [],
   "source": [
    "%%sh\n",
    "\n",
    "rm -f files/nested_dataclass.yml"
   ]
  },
  {
   "cell_type": "code",
   "execution_count": null,
   "id": "343c806e",
   "metadata": {
    "tags": []
   },
   "outputs": [],
   "source": [
    "from dataclasses import dataclass\n",
    "\n",
    "from datafiles import datafile\n",
    "\n",
    "@dataclass\n",
    "class Nested:\n",
    "    alpha: bool\n",
    "    beta: bool\n",
    "\n",
    "@datafile('files/nested_dataclass.yml')\n",
    "class Sample:\n",
    "    foo: int\n",
    "    bar: Nested"
   ]
  },
  {
   "cell_type": "markdown",
   "id": "6b962ce0",
   "metadata": {
    "tags": []
   },
   "source": [
    "# Initialize a root instance"
   ]
  },
  {
   "cell_type": "code",
   "execution_count": null,
   "id": "81046aef",
   "metadata": {
    "tags": []
   },
   "outputs": [],
   "source": [
    "sample = Sample(42, Nested(1, 0))"
   ]
  },
  {
   "cell_type": "code",
   "execution_count": null,
   "id": "a5482ac8",
   "metadata": {
    "tags": []
   },
   "outputs": [
    {
     "name": "stdout",
     "output_type": "stream",
     "text": [
      "foo: 42\n"
     ]
    },
    {
     "name": "stdout",
     "output_type": "stream",
     "text": [
      "bar:\n"
     ]
    },
    {
     "name": "stdout",
     "output_type": "stream",
     "text": [
      "  alpha: true\n"
     ]
    },
    {
     "name": "stdout",
     "output_type": "stream",
     "text": [
      "  beta: false\n"
     ]
    }
   ],
   "source": [
    "%%sh\n",
    "\n",
    "cat files/nested_dataclass.yml"
   ]
  },
  {
   "cell_type": "markdown",
   "id": "03d9f9f5",
   "metadata": {
    "tags": []
   },
   "source": [
    "# Modify the nested object"
   ]
  },
  {
   "cell_type": "code",
   "execution_count": null,
   "id": "292c3faa",
   "metadata": {
    "tags": []
   },
   "outputs": [],
   "source": [
    "sample.bar.beta = 1"
   ]
  },
  {
   "cell_type": "markdown",
   "id": "91cf9ed0",
   "metadata": {
    "tags": []
   },
   "source": [
    "# View modified file contents"
   ]
  },
  {
   "cell_type": "code",
   "execution_count": null,
   "id": "60d71c54",
   "metadata": {
    "tags": []
   },
   "outputs": [
    {
     "name": "stdout",
     "output_type": "stream",
     "text": [
      "foo: 42\n"
     ]
    },
    {
     "name": "stdout",
     "output_type": "stream",
     "text": [
      "bar:\n"
     ]
    },
    {
     "name": "stdout",
     "output_type": "stream",
     "text": [
      "  alpha: true\n"
     ]
    },
    {
     "name": "stdout",
     "output_type": "stream",
     "text": [
      "  beta: true\n"
     ]
    }
   ],
   "source": [
    "%%sh\n",
    "\n",
    "cat files/nested_dataclass.yml"
   ]
  },
  {
   "cell_type": "code",
   "execution_count": null,
   "id": "e39c8c71",
   "metadata": {
    "tags": []
   },
   "outputs": [],
   "source": []
  }
 ],
 "metadata": {
  "kernelspec": {
   "display_name": "Python 3",
   "language": "python",
   "name": "python3"
  },
  "language_info": {
   "codemirror_mode": {
    "name": "ipython",
    "version": 3
   },
   "file_extension": ".py",
   "mimetype": "text/x-python",
   "name": "python",
   "nbconvert_exporter": "python",
   "pygments_lexer": "ipython3",
   "version": "3.11.5"
  }
 },
 "nbformat": 4,
 "nbformat_minor": 5
}
