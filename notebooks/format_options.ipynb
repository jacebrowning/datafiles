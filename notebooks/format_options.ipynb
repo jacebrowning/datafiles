{
 "cells": [
  {
   "cell_type": "code",
   "execution_count": null,
   "id": "de4290d2",
   "metadata": {
    "tags": []
   },
   "outputs": [],
   "source": [
    "%%sh\n",
    "\n",
    "rm -f files/format_options.*"
   ]
  },
  {
   "cell_type": "code",
   "execution_count": null,
   "id": "c77b951a",
   "metadata": {
    "tags": []
   },
   "outputs": [],
   "source": [
    "from dataclasses import dataclass\n",
    "from typing import List\n",
    "\n",
    "@dataclass\n",
    "class Nested:\n",
    "    value: int\n",
    "\n",
    "@dataclass\n",
    "class Base:\n",
    "    my_dict: Nested\n",
    "    my_list: List[Nested]\n",
    "    my_bool: bool = True\n",
    "    my_float: float = 1.23\n",
    "    my_int: int = 42\n",
    "    my_str: str = \"Hello, world!\""
   ]
  },
  {
   "cell_type": "markdown",
   "id": "58e29353",
   "metadata": {
    "tags": []
   },
   "source": [
    "# JSON"
   ]
  },
  {
   "cell_type": "code",
   "execution_count": null,
   "id": "aa768a2c",
   "metadata": {
    "tags": []
   },
   "outputs": [],
   "source": [
    "from datafiles import datafile\n",
    "\n",
    "@datafile('files/format_options.json', defaults=True)\n",
    "class Sample(Base):\n",
    "    fmt: str = \"JavaScript Object Notation\"\n",
    "        \n",
    "sample = Sample(Nested(0), [Nested(1), Nested(2)])"
   ]
  },
  {
   "cell_type": "code",
   "execution_count": null,
   "id": "58913ee4",
   "metadata": {
    "tags": []
   },
   "outputs": [
    {
     "name": "stdout",
     "output_type": "stream",
     "text": [
      "{\n"
     ]
    },
    {
     "name": "stdout",
     "output_type": "stream",
     "text": [
      "  \"my_dict\": {\n"
     ]
    },
    {
     "name": "stdout",
     "output_type": "stream",
     "text": [
      "    \"value\": 0\n"
     ]
    },
    {
     "name": "stdout",
     "output_type": "stream",
     "text": [
      "  },\n"
     ]
    },
    {
     "name": "stdout",
     "output_type": "stream",
     "text": [
      "  \"my_list\": [\n"
     ]
    },
    {
     "name": "stdout",
     "output_type": "stream",
     "text": [
      "    {\n"
     ]
    },
    {
     "name": "stdout",
     "output_type": "stream",
     "text": [
      "      \"value\": 1\n"
     ]
    },
    {
     "name": "stdout",
     "output_type": "stream",
     "text": [
      "    },\n"
     ]
    },
    {
     "name": "stdout",
     "output_type": "stream",
     "text": [
      "    {\n"
     ]
    },
    {
     "name": "stdout",
     "output_type": "stream",
     "text": [
      "      \"value\": 2\n"
     ]
    },
    {
     "name": "stdout",
     "output_type": "stream",
     "text": [
      "    }\n"
     ]
    },
    {
     "name": "stdout",
     "output_type": "stream",
     "text": [
      "  ],\n"
     ]
    },
    {
     "name": "stdout",
     "output_type": "stream",
     "text": [
      "  \"my_bool\": true,\n"
     ]
    },
    {
     "name": "stdout",
     "output_type": "stream",
     "text": [
      "  \"my_float\": 1.23,\n"
     ]
    },
    {
     "name": "stdout",
     "output_type": "stream",
     "text": [
      "  \"my_int\": 42,\n"
     ]
    },
    {
     "name": "stdout",
     "output_type": "stream",
     "text": [
      "  \"my_str\": \"Hello, world!\"\n"
     ]
    },
    {
     "name": "stdout",
     "output_type": "stream",
     "text": [
      "}"
     ]
    }
   ],
   "source": [
    "%%sh\n",
    "\n",
    "cat files/format_options.json"
   ]
  },
  {
   "cell_type": "markdown",
   "id": "46eb6a78",
   "metadata": {
    "tags": []
   },
   "source": [
    "# TOML"
   ]
  },
  {
   "cell_type": "code",
   "execution_count": null,
   "id": "e6ecfd11",
   "metadata": {
    "tags": []
   },
   "outputs": [],
   "source": [
    "from datafiles import datafile\n",
    "\n",
    "@datafile('files/format_options.toml', defaults=True)\n",
    "class Sample(Base):\n",
    "    fmt: str = \"Tom's Obvious Minimal Language\"\n",
    "        \n",
    "sample = Sample(Nested(0), [Nested(1), Nested(2)])"
   ]
  },
  {
   "cell_type": "code",
   "execution_count": null,
   "id": "f75d7b5a",
   "metadata": {
    "tags": []
   },
   "outputs": [
    {
     "name": "stdout",
     "output_type": "stream",
     "text": [
      "my_bool = true\n"
     ]
    },
    {
     "name": "stdout",
     "output_type": "stream",
     "text": [
      "my_float = 1.23\n"
     ]
    },
    {
     "name": "stdout",
     "output_type": "stream",
     "text": [
      "my_int = 42\n"
     ]
    },
    {
     "name": "stdout",
     "output_type": "stream",
     "text": [
      "my_str = \"Hello, world!\"\n"
     ]
    },
    {
     "name": "stdout",
     "output_type": "stream",
     "text": [
      "[[my_list]]\n"
     ]
    },
    {
     "name": "stdout",
     "output_type": "stream",
     "text": [
      "value = 1\n"
     ]
    },
    {
     "name": "stdout",
     "output_type": "stream",
     "text": [
      "\n"
     ]
    },
    {
     "name": "stdout",
     "output_type": "stream",
     "text": [
      "[[my_list]]\n"
     ]
    },
    {
     "name": "stdout",
     "output_type": "stream",
     "text": [
      "value = 2\n"
     ]
    },
    {
     "name": "stdout",
     "output_type": "stream",
     "text": [
      "\n"
     ]
    },
    {
     "name": "stdout",
     "output_type": "stream",
     "text": [
      "[my_dict]\n"
     ]
    },
    {
     "name": "stdout",
     "output_type": "stream",
     "text": [
      "value = 0\n"
     ]
    }
   ],
   "source": [
    "%%sh\n",
    "\n",
    "cat files/format_options.toml"
   ]
  },
  {
   "cell_type": "markdown",
   "id": "53b4527e",
   "metadata": {
    "tags": []
   },
   "source": [
    "# YAML"
   ]
  },
  {
   "cell_type": "code",
   "execution_count": null,
   "id": "bfe98b82",
   "metadata": {
    "tags": []
   },
   "outputs": [],
   "source": [
    "from datafiles import datafile\n",
    "\n",
    "@datafile('files/format_options.yml', defaults=True)\n",
    "class Sample(Base):\n",
    "    fmt: str = \"YAML Ain't Markup Language\"\n",
    "        \n",
    "sample = Sample(Nested(0), [Nested(1), Nested(2)])"
   ]
  },
  {
   "cell_type": "code",
   "execution_count": null,
   "id": "02f30229",
   "metadata": {
    "tags": []
   },
   "outputs": [
    {
     "name": "stdout",
     "output_type": "stream",
     "text": [
      "my_dict:\n"
     ]
    },
    {
     "name": "stdout",
     "output_type": "stream",
     "text": [
      "  value: 0\n"
     ]
    },
    {
     "name": "stdout",
     "output_type": "stream",
     "text": [
      "my_list:\n"
     ]
    },
    {
     "name": "stdout",
     "output_type": "stream",
     "text": [
      "  - value: 1\n"
     ]
    },
    {
     "name": "stdout",
     "output_type": "stream",
     "text": [
      "  - value: 2\n"
     ]
    },
    {
     "name": "stdout",
     "output_type": "stream",
     "text": [
      "my_bool: true\n"
     ]
    },
    {
     "name": "stdout",
     "output_type": "stream",
     "text": [
      "my_float: 1.23\n"
     ]
    },
    {
     "name": "stdout",
     "output_type": "stream",
     "text": [
      "my_int: 42\n"
     ]
    },
    {
     "name": "stdout",
     "output_type": "stream",
     "text": [
      "my_str: Hello, world!\n"
     ]
    }
   ],
   "source": [
    "%%sh\n",
    "\n",
    "cat files/format_options.yml"
   ]
  },
  {
   "cell_type": "code",
   "execution_count": null,
   "id": "23752905",
   "metadata": {
    "tags": []
   },
   "outputs": [],
   "source": []
  }
 ],
 "metadata": {
  "kernelspec": {
   "display_name": "Python 3",
   "language": "python",
   "name": "python3"
  },
  "language_info": {
   "codemirror_mode": {
    "name": "ipython",
    "version": 3
   },
   "file_extension": ".py",
   "mimetype": "text/x-python",
   "name": "python",
   "nbconvert_exporter": "python",
   "pygments_lexer": "ipython3",
   "version": "3.11.5"
  }
 },
 "nbformat": 4,
 "nbformat_minor": 5
}
